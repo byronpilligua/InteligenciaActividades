{
  "nbformat": 4,
  "nbformat_minor": 0,
  "metadata": {
    "colab": {
      "provenance": []
    },
    "kernelspec": {
      "name": "python3",
      "display_name": "Python 3"
    },
    "language_info": {
      "name": "python"
    }
  },
  "cells": [
    {
      "cell_type": "markdown",
      "source": [
        "Actividad 1\n",
        "•\tCrear un arreglo de 4 dimensiones ordenados por la edad o el nombre\n",
        "\n"
      ],
      "metadata": {
        "id": "ZdNeAnvjXfwq"
      }
    },
    {
      "cell_type": "code",
      "source": [
        "import numpy as np\n",
        "key=[('Nombre','S10'),('Apellido','S10'),('Edad',int)]\n",
        "datos=[('Juan','Alonso',19),('Byron','Pilligua',24),('Carlos','Reyes',17),('Marcos','Anchundia',20)]\n",
        "arr= np.array(datos, dtype=key)\n",
        "print(arr)"
      ],
      "metadata": {
        "colab": {
          "base_uri": "https://localhost:8080/"
        },
        "id": "mWDkofDgXhgV",
        "outputId": "7228887c-5c20-48b4-c419-4497f8c21a28"
      },
      "execution_count": 3,
      "outputs": [
        {
          "output_type": "stream",
          "name": "stdout",
          "text": [
            "[(b'Juan', b'Alonso', 19) (b'Byron', b'Pilligua', 24)\n",
            " (b'Carlos', b'Reyes', 17) (b'Marcos', b'Anchundia', 20)]\n"
          ]
        }
      ]
    },
    {
      "cell_type": "code",
      "source": [
        "print(\"Ordenar por nombre\")\n",
        "np.sort(arr,order='Nombre')"
      ],
      "metadata": {
        "colab": {
          "base_uri": "https://localhost:8080/"
        },
        "id": "LK2YV64aaDkX",
        "outputId": "3449a99a-0d28-4c27-da1a-f49ac8ffea4e"
      },
      "execution_count": 4,
      "outputs": [
        {
          "output_type": "stream",
          "name": "stdout",
          "text": [
            "Ordenar por nombre\n"
          ]
        },
        {
          "output_type": "execute_result",
          "data": {
            "text/plain": [
              "array([(b'Byron', b'Pilligua', 24), (b'Carlos', b'Reyes', 17),\n",
              "       (b'Juan', b'Alonso', 19), (b'Marcos', b'Anchundia', 20)],\n",
              "      dtype=[('Nombre', 'S10'), ('Apellido', 'S10'), ('Edad', '<i8')])"
            ]
          },
          "metadata": {},
          "execution_count": 4
        }
      ]
    },
    {
      "cell_type": "code",
      "source": [
        "print(\"Ordenar por edad\")\n",
        "np.sort(arr,order='Edad')"
      ],
      "metadata": {
        "colab": {
          "base_uri": "https://localhost:8080/"
        },
        "id": "6SBbX3GvaV3Q",
        "outputId": "bf0f8426-e0b3-4d1b-b145-74cd7a8c4caa"
      },
      "execution_count": 5,
      "outputs": [
        {
          "output_type": "stream",
          "name": "stdout",
          "text": [
            "Ordenar por edad\n"
          ]
        },
        {
          "output_type": "execute_result",
          "data": {
            "text/plain": [
              "array([(b'Carlos', b'Reyes', 17), (b'Juan', b'Alonso', 19),\n",
              "       (b'Marcos', b'Anchundia', 20), (b'Byron', b'Pilligua', 24)],\n",
              "      dtype=[('Nombre', 'S10'), ('Apellido', 'S10'), ('Edad', '<i8')])"
            ]
          },
          "metadata": {},
          "execution_count": 5
        }
      ]
    }
  ]
}